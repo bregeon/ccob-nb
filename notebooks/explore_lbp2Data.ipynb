{
 "cells": [
  {
   "cell_type": "code",
   "execution_count": 2,
   "metadata": {},
   "outputs": [
    {
     "name": "stdout",
     "output_type": "stream",
     "text": [
      "/home/bregeon/LSST/CCOB/nb/ccob-nb/notebooks\n"
     ]
    }
   ],
   "source": [
    "import os\n",
    "import h5py\n",
    "print(os.getcwd())"
   ]
  },
  {
   "cell_type": "code",
   "execution_count": 3,
   "metadata": {},
   "outputs": [
    {
     "data": {
      "text/plain": [
       "['BG_DATA', 'BG_SETUP']"
      ]
     },
     "execution_count": 3,
     "metadata": {},
     "output_type": "execute_result"
    }
   ],
   "source": [
    "PROF_DATA_PATH='../data'\n",
    "file_path=os.path.join(PROF_DATA_PATH, 'profil_0207_900nm.lbp2Data')\n",
    "f = h5py.File(file_path, 'r')\n",
    "list(f.keys())"
   ]
  },
  {
   "cell_type": "code",
   "execution_count": 4,
   "metadata": {},
   "outputs": [],
   "source": [
    "meta_data = f['BG_SETUP']"
   ]
  },
  {
   "cell_type": "code",
   "execution_count": 5,
   "metadata": {},
   "outputs": [
    {
     "data": {
      "text/plain": [
       "[('Aperture', <HDF5 group \"/BG_SETUP/Aperture\" (4 members)>),\n",
       " ('BEAM_DISPLAY', <HDF5 group \"/BG_SETUP/BEAM_DISPLAY\" (3 members)>),\n",
       " ('BEAM_PROFILE', <HDF5 group \"/BG_SETUP/BEAM_PROFILE\" (1 members)>),\n",
       " ('BG_LAYOUT', <HDF5 dataset \"BG_LAYOUT\": shape (1,), type \"|S1582\">),\n",
       " ('Beam Display', <HDF5 group \"/BG_SETUP/Beam Display\" (7 members)>),\n",
       " ('Beam Profile', <HDF5 group \"/BG_SETUP/Beam Profile\" (3 members)>),\n",
       " ('CHARTS', <HDF5 group \"/BG_SETUP/CHARTS\" (1 members)>),\n",
       " ('Capture', <HDF5 group \"/BG_SETUP/Capture\" (9 members)>),\n",
       " ('Charts', <HDF5 group \"/BG_SETUP/Charts\" (4 members)>),\n",
       " ('Computations', <HDF5 group \"/BG_SETUP/Computations\" (6 members)>),\n",
       " ('DATA_SOURCE_MANAGER',\n",
       "  <HDF5 group \"/BG_SETUP/DATA_SOURCE_MANAGER\" (7 members)>),\n",
       " ('Logging', <HDF5 group \"/BG_SETUP/Logging\" (6 members)>),\n",
       " ('ProtectUserInterface',\n",
       "  <HDF5 dataset \"ProtectUserInterface\": shape (1,), type \"|u1\">),\n",
       " ('REPORTS', <HDF5 group \"/BG_SETUP/REPORTS\" (1 members)>),\n",
       " ('RESULTS_MANAGER', <HDF5 group \"/BG_SETUP/RESULTS_MANAGER\" (3 members)>),\n",
       " ('Reports', <HDF5 group \"/BG_SETUP/Reports\" (2 members)>),\n",
       " ('SETUP_APPLICATION_TYPE',\n",
       "  <HDF5 dataset \"SETUP_APPLICATION_TYPE\": shape (1,), type \"|S11\">),\n",
       " ('SETUP_CULTURE', <HDF5 dataset \"SETUP_CULTURE\": shape (1,), type \"|S15\">),\n",
       " ('Source', <HDF5 group \"/BG_SETUP/Source\" (12 members)>),\n",
       " ('StateVersion', <HDF5 dataset \"StateVersion\": shape (1,), type \"|S3\">),\n",
       " ('VERSION_NUMBER', <HDF5 dataset \"VERSION_NUMBER\": shape (1,), type \"|S9\">)]"
      ]
     },
     "execution_count": 5,
     "metadata": {},
     "output_type": "execute_result"
    }
   ],
   "source": [
    "list(meta_data.items())"
   ]
  },
  {
   "cell_type": "code",
   "execution_count": 6,
   "metadata": {},
   "outputs": [
    {
     "name": "stdout",
     "output_type": "stream",
     "text": [
      "[b'Visible']\n"
     ]
    }
   ],
   "source": [
    "prof = meta_data['Beam Profile']['RIBBON_VISIBILITY_BEAMPROFILE_CONTROLBEAM_PROFILE_X']\n",
    "print(prof[()])"
   ]
  },
  {
   "cell_type": "code",
   "execution_count": 8,
   "metadata": {},
   "outputs": [
    {
     "name": "stdout",
     "output_type": "stream",
     "text": [
      "Number of Frames = 16\n",
      "Bits per pixel = 12\n",
      "Frame format = b'1928 x 1448 1x1'\n"
     ]
    }
   ],
   "source": [
    "src = meta_data['DATA_SOURCE_MANAGER']\n",
    "n_frames = src['FRAMEBUFFER']['NUM_FRAMES'].value[0]\n",
    "raw_src = src['SOURCE_SELECT_CONNECT']['DATA_SOURCE']['RAWDATASOURCE']\n",
    "bits_per_pixel = raw_src['BITS_PER_PIXEL'].value[0]\n",
    "frame_format = raw_src['CURRENT_FRAME_FORMAT'].value[0]\n",
    "\n",
    "print('Number of Frames =', n_frames)\n",
    "print('Bits per pixel =', bits_per_pixel)\n",
    "print('Frame format =', frame_format)\n"
   ]
  },
  {
   "cell_type": "code",
   "execution_count": 9,
   "metadata": {},
   "outputs": [
    {
     "data": {
      "text/plain": [
       "[('AUTOX', <HDF5 dataset \"AUTOX\": shape (1,), type \"|S5\">),\n",
       " ('BADPIXELCORRECTED',\n",
       "  <HDF5 dataset \"BADPIXELCORRECTED\": shape (1,), type \"|S4\">),\n",
       " ('COMMENT', <HDF5 dataset \"COMMENT\": shape (1,), type \"|S1\">),\n",
       " ('DATA', <HDF5 dataset \"DATA\": shape (4264856,), type \"|V1\">),\n",
       " ('DATA_TYPE', <HDF5 dataset \"DATA_TYPE\": shape (1,), type \"|S4\">),\n",
       " ('GAINCORRECTED', <HDF5 dataset \"GAINCORRECTED\": shape (1,), type \"|S5\">),\n",
       " ('GAMMACORRECTED', <HDF5 dataset \"GAMMACORRECTED\": shape (1,), type \"|S5\">),\n",
       " ('HASDATA', <HDF5 dataset \"HASDATA\": shape (1,), type \"|u1\">),\n",
       " ('METADATA', <HDF5 group \"/BG_DATA/1/METADATA\" (1 members)>),\n",
       " ('RAWFRAME', <HDF5 group \"/BG_DATA/1/RAWFRAME\" (22 members)>),\n",
       " ('REFERENCESUBTRACTED',\n",
       "  <HDF5 dataset \"REFERENCESUBTRACTED\": shape (1,), type \"|S5\">),\n",
       " ('ULTRACALED', <HDF5 dataset \"ULTRACALED\": shape (1,), type \"|S5\">)]"
      ]
     },
     "execution_count": 9,
     "metadata": {},
     "output_type": "execute_result"
    }
   ],
   "source": [
    "data =  f['BG_DATA']['1']\n",
    "tiff_data = data['DATA'].value\n",
    "list(data.items())"
   ]
  },
  {
   "cell_type": "code",
   "execution_count": 10,
   "metadata": {},
   "outputs": [
    {
     "name": "stdout",
     "output_type": "stream",
     "text": [
      "[b'\\x49' b'\\x49' b'\\x2A' ... b'\\x00' b'\\x00' b'\\x01']\n"
     ]
    }
   ],
   "source": [
    "print(tiff_data)"
   ]
  },
  {
   "cell_type": "code",
   "execution_count": 11,
   "metadata": {},
   "outputs": [
    {
     "name": "stdout",
     "output_type": "stream",
     "text": [
      "Time stamp = b'2019-07-02T10:54:36.5694632+02:00'\n"
     ]
    }
   ],
   "source": [
    "timestamp = data['RAWFRAME']['TIMESTAMP'].value[0]\n",
    "print('Time stamp =', timestamp)"
   ]
  },
  {
   "cell_type": "code",
   "execution_count": 12,
   "metadata": {},
   "outputs": [
    {
     "name": "stdout",
     "output_type": "stream",
     "text": [
      "Summary\n",
      "Time stamp = b'2019-07-02T10:54:36.5694632+02:00'\n",
      "Number of Frames = 16\n",
      "Bits per pixel = 12\n",
      "Frame format = b'1928 x 1448 1x1'\n",
      "First 5 tiff data hexadecimal numbers =\n",
      " [b'\\x49' b'\\x49' b'\\x2A' b'\\x00' b'\\xCE']\n"
     ]
    }
   ],
   "source": [
    "print('Summary')\n",
    "print('Time stamp =', timestamp)\n",
    "print('Number of Frames =', n_frames)\n",
    "print('Bits per pixel =', bits_per_pixel)\n",
    "print('Frame format =', frame_format)\n",
    "print('First 5 tiff data hexadecimal numbers =\\n', tiff_data[:5])"
   ]
  },
  {
   "cell_type": "code",
   "execution_count": null,
   "metadata": {},
   "outputs": [],
   "source": []
  },
  {
   "cell_type": "code",
   "execution_count": null,
   "metadata": {},
   "outputs": [],
   "source": []
  }
 ],
 "metadata": {
  "kernelspec": {
   "display_name": "Python 3",
   "language": "python",
   "name": "python3"
  },
  "language_info": {
   "codemirror_mode": {
    "name": "ipython",
    "version": 3
   },
   "file_extension": ".py",
   "mimetype": "text/x-python",
   "name": "python",
   "nbconvert_exporter": "python",
   "pygments_lexer": "ipython3",
   "version": "3.7.3"
  }
 },
 "nbformat": 4,
 "nbformat_minor": 2
}
